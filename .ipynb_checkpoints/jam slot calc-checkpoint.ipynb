{
 "cells": [
  {
   "cell_type": "code",
   "execution_count": 4,
   "id": "5523e842",
   "metadata": {},
   "outputs": [],
   "source": [
    "import pandas as pd\n",
    "\n",
    "def was_channel_jammed(channel, eventDf):\n",
    "    filtered_df = eventDf[(eventDf['shortChannelId_outgoing'] == channel) | \n",
    "                          (eventDf['shortChannelId_incoming'] == channel)]\n",
    "    slot_count = 0\n",
    "    time_slot_list = []\n",
    "    for index, row in filtered_df.iterrows():\n",
    "        if row['eventType'] == 'add':\n",
    "            slot_count += 1\n",
    "            time_slot_list.append({'time': row['eventTimeNs'], 'taken_slots': slot_count})\n",
    "        elif row['eventType'] == 'resolve':\n",
    "            slot_count -= 1\n",
    "            time_slot_list.append({'time': row['eventTimeNs'], 'taken_slots': slot_count})\n",
    "    result_df = pd.DataFrame(time_slot_list)\n",
    "    #result_df = result_df.sort_values(by='time').reset_index(drop=True)\n",
    "    return result_df\n",
    "\n",
    "def process_all_channels(pair_schedule_df):\n",
    "    unique_channels = pd.unique(\n",
    "        pair_schedule_df[['shortChannelId_incoming', 'shortChannelId_outgoing']].values.ravel('K')\n",
    "    )\n",
    "    channel_results = {}\n",
    "    for channel in unique_channels:\n",
    "        result_df = was_channel_jammed(channel, pair_schedule_df)\n",
    "        channel_results[channel] = result_df\n",
    "    return channel_results\n",
    "\n",
    "def find_channels_with_high_slots(all_channel_results, threshold=50):\n",
    "    channels_with_high_slots = []\n",
    "    for channel, df in all_channel_results.items():\n",
    "        if (df['taken_slots'] > threshold).any():\n",
    "            channels_with_high_slots.append(channel)\n",
    "    return channels_with_high_slots\n",
    "\n"
   ]
  },
  {
   "cell_type": "code",
   "execution_count": 100,
   "id": "86a4eac7",
   "metadata": {},
   "outputs": [],
   "source": [
    "def calculate_cumulative_time(chan_df, from_slots, to_slots):\n",
    "    cumulative_time_ns = 0\n",
    "    start_time = None\n",
    "\n",
    "    for i in range(len(chan_df)):\n",
    "        if chan_df.iloc[i]['taken_slots'] >= from_slots and start_time is None:\n",
    "            start_time = chan_df.iloc[i]['time']\n",
    "        elif chan_df.iloc[i]['taken_slots'] <= to_slots and start_time is not None:\n",
    "            cumulative_time_ns += chan_df.iloc[i]['time'] - start_time\n",
    "            start_time = None\n",
    "\n",
    "    # Convert time from nanoseconds to minutes\n",
    "    cumulative_time_minutes = cumulative_time_ns / (1e9 * 60)\n",
    "    return cumulative_time_minutes"
   ]
  },
  {
   "cell_type": "code",
   "execution_count": 156,
   "id": "a422a4a4",
   "metadata": {},
   "outputs": [
    {
     "name": "stdout",
     "output_type": "stream",
     "text": [
      "           eventTimeNs eventType  shortChannelId_outgoing   \n",
      "0  1720714992069807912       add          393625162809344  \\\n",
      "1  1720714997275758912   resolve          393625162809344   \n",
      "2  1720715016771317912       add          393625162809344   \n",
      "3  1720715019119413912   resolve          393625162809344   \n",
      "4  1720715046714731912       add          393625162809344   \n",
      "\n",
      "   shortChannelId_incoming  \n",
      "0          378232000020480  \n",
      "1          378232000020480  \n",
      "2          378232000020480  \n",
      "3          378232000020480  \n",
      "4          378232000020480  \n",
      "Channels with taken slots above x: [393625162809344]\n"
     ]
    }
   ],
   "source": [
    "import pandas as pd\n",
    "import json\n",
    "\n",
    "def create_pair_schedule_df(json_file_path):\n",
    "    with open(json_file_path, 'r') as file:\n",
    "        data = json.load(file)\n",
    "    \n",
    "    \n",
    "    forwards = data.get('forwards', [])\n",
    "    \n",
    "    # Extract relevant fields\n",
    "    rows = []\n",
    "    for entry in forwards:\n",
    "        if isinstance(entry, dict):\n",
    "            rows.append({\n",
    "                'eventTimeNs': int(entry['addTimeNs']),\n",
    "                'eventType': 'add',\n",
    "                'shortChannelId_outgoing': int(entry['outgoingCircuit']['shortChannelId']),\n",
    "                'shortChannelId_incoming': int(entry['incomingCircuit']['shortChannelId']),\n",
    "            })\n",
    "            if 'resolveTimeNs' in entry:\n",
    "                rows.append({\n",
    "                    'eventTimeNs': int(entry['resolveTimeNs']),\n",
    "                    'eventType': 'resolve',\n",
    "                    'shortChannelId_outgoing': int(entry['outgoingCircuit']['shortChannelId']),\n",
    "                    'shortChannelId_incoming': int(entry['incomingCircuit']['shortChannelId']),\n",
    "                })\n",
    "        else:\n",
    "            print(f\"Expected a dictionary but got {type(entry)}.\")\n",
    "    \n",
    "    # Create DataFrame\n",
    "    pair_schedule_df = pd.DataFrame(rows)\n",
    "    pair_schedule_df = pair_schedule_df.sort_values(by='eventTimeNs').reset_index(drop=True)\n",
    "    print(pair_schedule_df.head())\n",
    "    return pair_schedule_df\n",
    "\n",
    "# Example usage\n",
    "json_file_path = 'JamAttackEval/results_Jul22/2/forwarding_history.json'\n",
    "pair_schedule_df = create_pair_schedule_df(json_file_path)\n",
    "\n",
    "# Now you can process the DataFrame as required\n",
    "all_channel_results = process_all_channels(pair_schedule_df)\n",
    "channels_with_high_slots = find_channels_with_high_slots(all_channel_results, 370)\n",
    "\n",
    "print(\"Channels with taken slots above x:\", channels_with_high_slots)"
   ]
  },
  {
   "cell_type": "code",
   "execution_count": 157,
   "id": "8d7d539e",
   "metadata": {},
   "outputs": [
    {
     "name": "stdout",
     "output_type": "stream",
     "text": [
      "Channels with taken slots above x: [393625162809344]\n",
      "Cumulative time where taken slots changed from 483 to 482: 1.1512909235333333\n"
     ]
    }
   ],
   "source": [
    "if pair_schedule_df is not None:\n",
    "    all_channel_results = process_all_channels(pair_schedule_df)\n",
    "    channels_with_high_slots = find_channels_with_high_slots(all_channel_results, 482)\n",
    "\n",
    "    print(\"Channels with taken slots above x:\", channels_with_high_slots)\n",
    "\n",
    "    # Assuming there is only one channel with high slots, get the first one\n",
    "    if channels_with_high_slots:\n",
    "        selected_channel = channels_with_high_slots[0]\n",
    "        chan_df = was_channel_jammed(selected_channel, pair_schedule_df)\n",
    "        \n",
    "        cumulative_time = calculate_cumulative_time(chan_df, 474, 471)\n",
    "        print(f\"Cumulative time where taken slots changed from 483 to 482: {cumulative_time}\")\n",
    "else:\n",
    "    print(\"Failed to create pair schedule DataFrame.\")"
   ]
  },
  {
   "cell_type": "markdown",
   "id": "83c8cfa0",
   "metadata": {},
   "source": [
    "Channels with taken slots above x: [393625162809344]\n",
    "\n",
    "Cumulative time where taken slots changed from 483 to 482: 0.00019307861666666666"
   ]
  },
  {
   "cell_type": "markdown",
   "id": "23f5593e",
   "metadata": {},
   "source": [
    "474-471\n",
    "\n",
    "Folder 2 -> 1.1512909235333333\n",
    "Folder 3 -> 0.00019307861666666666\n",
    "Folder 6 -> 0.00019307861666666666"
   ]
  },
  {
   "cell_type": "markdown",
   "id": "0ec418da",
   "metadata": {},
   "source": [
    "Folder 1 -> 10.142129792066667\n",
    "Folder 4 -> 9.90197457735\n",
    "Folder 5 -> 10.048196056033333\n",
    "Folder 7 -> 10.10537017445\n",
    "Folder 8 -> 10.039394890083333\n",
    "Folder 9 -> 9.801070407716667\n",
    "\n",
    "Prob Folder 9"
   ]
  },
  {
   "cell_type": "markdown",
   "id": "a7ebdb96",
   "metadata": {},
   "source": [
    "# OLD"
   ]
  },
  {
   "cell_type": "code",
   "execution_count": 158,
   "id": "c35182d2",
   "metadata": {},
   "outputs": [],
   "source": [
    "chan_df = was_channel_jammed(393625162809344, pair_schedule_df)"
   ]
  },
  {
   "cell_type": "code",
   "execution_count": 159,
   "id": "a33423c9",
   "metadata": {},
   "outputs": [
    {
     "data": {
      "text/html": [
       "<div>\n",
       "<style scoped>\n",
       "    .dataframe tbody tr th:only-of-type {\n",
       "        vertical-align: middle;\n",
       "    }\n",
       "\n",
       "    .dataframe tbody tr th {\n",
       "        vertical-align: top;\n",
       "    }\n",
       "\n",
       "    .dataframe thead th {\n",
       "        text-align: right;\n",
       "    }\n",
       "</style>\n",
       "<table border=\"1\" class=\"dataframe\">\n",
       "  <thead>\n",
       "    <tr style=\"text-align: right;\">\n",
       "      <th></th>\n",
       "      <th>time</th>\n",
       "      <th>taken_slots</th>\n",
       "    </tr>\n",
       "  </thead>\n",
       "  <tbody>\n",
       "    <tr>\n",
       "      <th>64755</th>\n",
       "      <td>1721323921847935496</td>\n",
       "      <td>450</td>\n",
       "    </tr>\n",
       "    <tr>\n",
       "      <th>64756</th>\n",
       "      <td>1721323921857297906</td>\n",
       "      <td>451</td>\n",
       "    </tr>\n",
       "    <tr>\n",
       "      <th>64757</th>\n",
       "      <td>1721323921868480179</td>\n",
       "      <td>450</td>\n",
       "    </tr>\n",
       "    <tr>\n",
       "      <th>64758</th>\n",
       "      <td>1721323921895865400</td>\n",
       "      <td>451</td>\n",
       "    </tr>\n",
       "    <tr>\n",
       "      <th>64759</th>\n",
       "      <td>1721323921914233606</td>\n",
       "      <td>452</td>\n",
       "    </tr>\n",
       "    <tr>\n",
       "      <th>...</th>\n",
       "      <td>...</td>\n",
       "      <td>...</td>\n",
       "    </tr>\n",
       "    <tr>\n",
       "      <th>66749</th>\n",
       "      <td>1721324133329741173</td>\n",
       "      <td>454</td>\n",
       "    </tr>\n",
       "    <tr>\n",
       "      <th>66750</th>\n",
       "      <td>1721324133349240241</td>\n",
       "      <td>453</td>\n",
       "    </tr>\n",
       "    <tr>\n",
       "      <th>66751</th>\n",
       "      <td>1721324133376520364</td>\n",
       "      <td>452</td>\n",
       "    </tr>\n",
       "    <tr>\n",
       "      <th>66752</th>\n",
       "      <td>1721324133408899206</td>\n",
       "      <td>451</td>\n",
       "    </tr>\n",
       "    <tr>\n",
       "      <th>66753</th>\n",
       "      <td>1721324133441487272</td>\n",
       "      <td>450</td>\n",
       "    </tr>\n",
       "  </tbody>\n",
       "</table>\n",
       "<p>327 rows × 2 columns</p>\n",
       "</div>"
      ],
      "text/plain": [
       "                      time  taken_slots\n",
       "64755  1721323921847935496          450\n",
       "64756  1721323921857297906          451\n",
       "64757  1721323921868480179          450\n",
       "64758  1721323921895865400          451\n",
       "64759  1721323921914233606          452\n",
       "...                    ...          ...\n",
       "66749  1721324133329741173          454\n",
       "66750  1721324133349240241          453\n",
       "66751  1721324133376520364          452\n",
       "66752  1721324133408899206          451\n",
       "66753  1721324133441487272          450\n",
       "\n",
       "[327 rows x 2 columns]"
      ]
     },
     "execution_count": 159,
     "metadata": {},
     "output_type": "execute_result"
    }
   ],
   "source": [
    "chan_df[chan_df['taken_slots']>=450]"
   ]
  },
  {
   "cell_type": "code",
   "execution_count": 148,
   "id": "fe65f146",
   "metadata": {},
   "outputs": [
    {
     "data": {
      "text/plain": [
       "453"
      ]
     },
     "execution_count": 148,
     "metadata": {},
     "output_type": "execute_result"
    }
   ],
   "source": [
    "chan_df['taken_slots'].max()"
   ]
  },
  {
   "cell_type": "code",
   "execution_count": 150,
   "id": "ed01414d",
   "metadata": {},
   "outputs": [
    {
     "data": {
      "text/plain": [
       "-676942806182"
      ]
     },
     "execution_count": 150,
     "metadata": {},
     "output_type": "execute_result"
    }
   ],
   "source": [
    "1721399528932451460 - 1721400205875257642"
   ]
  },
  {
   "cell_type": "code",
   "execution_count": 155,
   "id": "b07a6f92",
   "metadata": {},
   "outputs": [
    {
     "data": {
      "text/plain": [
       "-678582935720"
      ]
     },
     "execution_count": 155,
     "metadata": {},
     "output_type": "execute_result"
    }
   ],
   "source": [
    "1721327094592967554 - 1721327773175903274"
   ]
  },
  {
   "cell_type": "code",
   "execution_count": 160,
   "id": "f2e909ae",
   "metadata": {},
   "outputs": [
    {
     "data": {
      "text/plain": [
       "-211593551776"
      ]
     },
     "execution_count": 160,
     "metadata": {},
     "output_type": "execute_result"
    }
   ],
   "source": [
    "1721323921847935496 - 1721324133441487272"
   ]
  },
  {
   "cell_type": "code",
   "execution_count": 161,
   "id": "6a213ef5",
   "metadata": {},
   "outputs": [
    {
     "name": "stdout",
     "output_type": "stream",
     "text": [
      "\u001b[34mBData\u001b[m\u001b[m/                       \u001b[34mfeeEst\u001b[m\u001b[m/\r\n",
      "\u001b[34mData Study\u001b[m\u001b[m/                  jam slot count.ipynb\r\n",
      "\u001b[34mJamAttackEval\u001b[m\u001b[m/               \u001b[34mln-jamming-simulator\u001b[m\u001b[m/\r\n",
      "\u001b[34mLNStat\u001b[m\u001b[m/                      \u001b[34mln-jamming-simulator 15 Aug\u001b[m\u001b[m/\r\n",
      "\u001b[34mMaypoles\u001b[m\u001b[m/                    ln-jamming-simulator.zip\r\n",
      "\u001b[34mbitcoin-data-analysis\u001b[m\u001b[m/       \u001b[34mtopology\u001b[m\u001b[m/\r\n",
      "\u001b[34mblockbuilding\u001b[m\u001b[m/               \u001b[34mwip-lightning-jamming-paper\u001b[m\u001b[m/\r\n",
      "\u001b[34mfee-estimates-analysis\u001b[m\u001b[m/\r\n"
     ]
    }
   ],
   "source": [
    "ls"
   ]
  },
  {
   "cell_type": "code",
   "execution_count": null,
   "id": "442e2f13",
   "metadata": {},
   "outputs": [],
   "source": []
  }
 ],
 "metadata": {
  "kernelspec": {
   "display_name": "Python 3 (ipykernel)",
   "language": "python",
   "name": "python3"
  },
  "language_info": {
   "codemirror_mode": {
    "name": "ipython",
    "version": 3
   },
   "file_extension": ".py",
   "mimetype": "text/x-python",
   "name": "python",
   "nbconvert_exporter": "python",
   "pygments_lexer": "ipython3",
   "version": "3.9.7"
  }
 },
 "nbformat": 4,
 "nbformat_minor": 5
}
