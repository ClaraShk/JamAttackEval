{
 "cells": [
  {
   "cell_type": "code",
   "execution_count": 4,
   "id": "5523e842",
   "metadata": {},
   "outputs": [],
   "source": [
    "import pandas as pd\n",
    "\n",
    "def was_channel_jammed(channel, eventDf):\n",
    "    filtered_df = eventDf[(eventDf['shortChannelId_outgoing'] == channel) | \n",
    "                          (eventDf['shortChannelId_incoming'] == channel)]\n",
    "    slot_count = 0\n",
    "    time_slot_list = []\n",
    "    for index, row in filtered_df.iterrows():\n",
    "        if row['eventType'] == 'add':\n",
    "            slot_count += 1\n",
    "            time_slot_list.append({'time': row['eventTimeNs'], 'taken_slots': slot_count})\n",
    "        elif row['eventType'] == 'resolve':\n",
    "            slot_count -= 1\n",
    "            time_slot_list.append({'time': row['eventTimeNs'], 'taken_slots': slot_count})\n",
    "    result_df = pd.DataFrame(time_slot_list)\n",
    "    #result_df = result_df.sort_values(by='time').reset_index(drop=True)\n",
    "    return result_df\n",
    "\n",
    "def process_all_channels(pair_schedule_df):\n",
    "    unique_channels = pd.unique(\n",
    "        pair_schedule_df[['shortChannelId_incoming', 'shortChannelId_outgoing']].values.ravel('K')\n",
    "    )\n",
    "    channel_results = {}\n",
    "    for channel in unique_channels:\n",
    "        result_df = was_channel_jammed(channel, pair_schedule_df)\n",
    "        channel_results[channel] = result_df\n",
    "    return channel_results\n",
    "\n",
    "def find_channels_with_high_slots(all_channel_results, threshold=50):\n",
    "    channels_with_high_slots = []\n",
    "    for channel, df in all_channel_results.items():\n",
    "        if (df['taken_slots'] > threshold).any():\n",
    "            channels_with_high_slots.append(channel)\n",
    "    return channels_with_high_slots\n",
    "\n"
   ]
  },
  {
   "cell_type": "code",
   "execution_count": 197,
   "id": "2d38b407",
   "metadata": {},
   "outputs": [],
   "source": [
    "def calculate_cumulative_time(chan_df, from_slots):\n",
    "    cumulative_time_ns = 0\n",
    "    start_time = None\n",
    "\n",
    "    for i in range(len(chan_df)):\n",
    "        if chan_df.iloc[i]['taken_slots'] >= from_slots and start_time is None:\n",
    "            start_time = chan_df.iloc[i]['time']\n",
    "        elif chan_df.iloc[i]['taken_slots'] < from_slots and start_time is not None:\n",
    "            cumulative_time_ns += chan_df.iloc[i]['time'] - start_time\n",
    "            start_time = None\n",
    "\n",
    "    # Convert time from nanoseconds to minutes\n",
    "    cumulative_time_minutes = cumulative_time_ns / (1e9 * 60)\n",
    "    return cumulative_time_minutes"
   ]
  },
  {
   "cell_type": "code",
   "execution_count": 198,
   "id": "a422a4a4",
   "metadata": {},
   "outputs": [
    {
     "name": "stdout",
     "output_type": "stream",
     "text": [
      "           eventTimeNs eventType  shortChannelId_outgoing   \n",
      "0  1721217612303718184       add          393625162809344  \\\n",
      "1  1721217617509669184   resolve          393625162809344   \n",
      "2  1721217637005228184       add          393625162809344   \n",
      "3  1721217639353324184   resolve          393625162809344   \n",
      "4  1721217666948642184       add          393625162809344   \n",
      "\n",
      "   shortChannelId_incoming  \n",
      "0          378232000020480  \n",
      "1          378232000020480  \n",
      "2          378232000020480  \n",
      "3          378232000020480  \n",
      "4          378232000020480  \n",
      "Channels with taken slots above x: [393625162809344]\n"
     ]
    }
   ],
   "source": [
    "import pandas as pd\n",
    "import json\n",
    "\n",
    "def create_pair_schedule_df(json_file_path):\n",
    "    with open(json_file_path, 'r') as file:\n",
    "        data = json.load(file)\n",
    "    \n",
    "    \n",
    "    forwards = data.get('forwards', [])\n",
    "    \n",
    "    # Extract relevant fields\n",
    "    rows = []\n",
    "    for entry in forwards:\n",
    "        if isinstance(entry, dict):\n",
    "            rows.append({\n",
    "                'eventTimeNs': int(entry['addTimeNs']),\n",
    "                'eventType': 'add',\n",
    "                'shortChannelId_outgoing': int(entry['outgoingCircuit']['shortChannelId']),\n",
    "                'shortChannelId_incoming': int(entry['incomingCircuit']['shortChannelId']),\n",
    "            })\n",
    "            if 'resolveTimeNs' in entry:\n",
    "                rows.append({\n",
    "                    'eventTimeNs': int(entry['resolveTimeNs']),\n",
    "                    'eventType': 'resolve',\n",
    "                    'shortChannelId_outgoing': int(entry['outgoingCircuit']['shortChannelId']),\n",
    "                    'shortChannelId_incoming': int(entry['incomingCircuit']['shortChannelId']),\n",
    "                })\n",
    "        else:\n",
    "            print(f\"Expected a dictionary but got {type(entry)}.\")\n",
    "    \n",
    "    # Create DataFrame\n",
    "    pair_schedule_df = pd.DataFrame(rows)\n",
    "    pair_schedule_df = pair_schedule_df.sort_values(by='eventTimeNs').reset_index(drop=True)\n",
    "    print(pair_schedule_df.head())\n",
    "    return pair_schedule_df\n",
    "\n",
    "FolderNumber = 16\n",
    "json_file_path = f'JamAttackEval/results_Jul23/slowjam/{FolderNumber}/forwarding_history.json'\n",
    "pair_schedule_df = create_pair_schedule_df(json_file_path)\n",
    "\n",
    "# Now you can process the DataFrame as required\n",
    "all_channel_results = process_all_channels(pair_schedule_df)\n",
    "channels_with_high_slots = find_channels_with_high_slots(all_channel_results, 370)\n",
    "\n",
    "print(\"Channels with taken slots above x:\", channels_with_high_slots)"
   ]
  },
  {
   "cell_type": "code",
   "execution_count": 200,
   "id": "0e8ad022",
   "metadata": {},
   "outputs": [
    {
     "name": "stdout",
     "output_type": "stream",
     "text": [
      "Channels with taken slots above x: [393625162809344]\n",
      "In Folder 16, cumulative time where taken slots are above 480: 10.063066915033334\n"
     ]
    }
   ],
   "source": [
    "if pair_schedule_df is not None:\n",
    "    all_channel_results = process_all_channels(pair_schedule_df)\n",
    "    channels_with_high_slots = find_channels_with_high_slots(all_channel_results, 482)\n",
    "\n",
    "    print(\"Channels with taken slots above x:\", channels_with_high_slots)\n",
    "\n",
    "    # Assuming there is only one channel with high slots, get the first one\n",
    "    if channels_with_high_slots:\n",
    "        selected_channel = channels_with_high_slots[0]\n",
    "        chan_df = was_channel_jammed(selected_channel, pair_schedule_df)\n",
    "        \n",
    "        #max_slot = 483\n",
    "        min_for_jam = 480\n",
    "        \n",
    "        cumulative_time = calculate_cumulative_time(chan_df, min_for_jam)\n",
    "        print(f\"In Folder {FolderNumber}, cumulative time where taken slots are above {min_for_jam}: {cumulative_time}\")\n",
    "    else:\n",
    "        print(f\"Folder {FolderNumber} has no jams with slot min {min_for_jam}\")\n",
    "else:\n",
    "    print(\"Failed to create pair schedule DataFrame.\")"
   ]
  },
  {
   "cell_type": "markdown",
   "id": "40b6b10b",
   "metadata": {},
   "source": [
    "Channels with taken slots above x: [393625162809344]\n",
    "\n",
    "Cumulative time where taken slots changed from 483 to 482: 0.00019307861666666666"
   ]
  },
  {
   "cell_type": "markdown",
   "id": "853bb083",
   "metadata": {},
   "source": [
    "474-471\n",
    "\n",
    "Folder 2 -> 1.1512909235333333\n",
    "Folder 3 -> 0.00019307861666666666\n",
    "Folder 6 -> 0.00019307861666666666"
   ]
  },
  {
   "cell_type": "markdown",
   "id": "8432b3e9",
   "metadata": {},
   "source": [
    "Folder 1 -> 10.142129792066667\n",
    "Folder 4 -> 9.90197457735\n",
    "Folder 5 -> 10.048196056033333\n",
    "Folder 7 -> 10.10537017445\n",
    "Folder 8 -> 10.039394890083333\n",
    "Folder 9 -> 9.801070407716667\n",
    "\n",
    "Prob Folder 9"
   ]
  },
  {
   "cell_type": "markdown",
   "id": "348cd3c0",
   "metadata": {},
   "source": [
    "# OLD"
   ]
  },
  {
   "cell_type": "code",
   "execution_count": 165,
   "id": "c35182d2",
   "metadata": {},
   "outputs": [],
   "source": [
    "chan_df = was_channel_jammed(393625162809344, pair_schedule_df)"
   ]
  },
  {
   "cell_type": "code",
   "execution_count": 168,
   "id": "a33423c9",
   "metadata": {},
   "outputs": [
    {
     "data": {
      "text/html": [
       "<div>\n",
       "<style scoped>\n",
       "    .dataframe tbody tr th:only-of-type {\n",
       "        vertical-align: middle;\n",
       "    }\n",
       "\n",
       "    .dataframe tbody tr th {\n",
       "        vertical-align: top;\n",
       "    }\n",
       "\n",
       "    .dataframe thead th {\n",
       "        text-align: right;\n",
       "    }\n",
       "</style>\n",
       "<table border=\"1\" class=\"dataframe\">\n",
       "  <thead>\n",
       "    <tr style=\"text-align: right;\">\n",
       "      <th></th>\n",
       "      <th>time</th>\n",
       "      <th>taken_slots</th>\n",
       "    </tr>\n",
       "  </thead>\n",
       "  <tbody>\n",
       "    <tr>\n",
       "      <th>65257</th>\n",
       "      <td>1721308107670202543</td>\n",
       "      <td>480</td>\n",
       "    </tr>\n",
       "    <tr>\n",
       "      <th>65739</th>\n",
       "      <td>1721308154207257624</td>\n",
       "      <td>480</td>\n",
       "    </tr>\n",
       "    <tr>\n",
       "      <th>65740</th>\n",
       "      <td>1721308154372220022</td>\n",
       "      <td>481</td>\n",
       "    </tr>\n",
       "    <tr>\n",
       "      <th>65741</th>\n",
       "      <td>1721308154381065281</td>\n",
       "      <td>482</td>\n",
       "    </tr>\n",
       "    <tr>\n",
       "      <th>65742</th>\n",
       "      <td>1721308154393579407</td>\n",
       "      <td>483</td>\n",
       "    </tr>\n",
       "    <tr>\n",
       "      <th>65743</th>\n",
       "      <td>1721308169997600279</td>\n",
       "      <td>482</td>\n",
       "    </tr>\n",
       "    <tr>\n",
       "      <th>65744</th>\n",
       "      <td>1721308170703955473</td>\n",
       "      <td>481</td>\n",
       "    </tr>\n",
       "    <tr>\n",
       "      <th>65745</th>\n",
       "      <td>1721308171319383542</td>\n",
       "      <td>480</td>\n",
       "    </tr>\n",
       "    <tr>\n",
       "      <th>66221</th>\n",
       "      <td>1721308199571599196</td>\n",
       "      <td>480</td>\n",
       "    </tr>\n",
       "    <tr>\n",
       "      <th>66222</th>\n",
       "      <td>1721308199766490794</td>\n",
       "      <td>481</td>\n",
       "    </tr>\n",
       "    <tr>\n",
       "      <th>66223</th>\n",
       "      <td>1721308199777945719</td>\n",
       "      <td>482</td>\n",
       "    </tr>\n",
       "    <tr>\n",
       "      <th>66224</th>\n",
       "      <td>1721308199791143798</td>\n",
       "      <td>483</td>\n",
       "    </tr>\n",
       "    <tr>\n",
       "      <th>66225</th>\n",
       "      <td>1721308199851176564</td>\n",
       "      <td>482</td>\n",
       "    </tr>\n",
       "    <tr>\n",
       "      <th>66226</th>\n",
       "      <td>1721308786110192590</td>\n",
       "      <td>481</td>\n",
       "    </tr>\n",
       "    <tr>\n",
       "      <th>66227</th>\n",
       "      <td>1721308786897491524</td>\n",
       "      <td>480</td>\n",
       "    </tr>\n",
       "  </tbody>\n",
       "</table>\n",
       "</div>"
      ],
      "text/plain": [
       "                      time  taken_slots\n",
       "65257  1721308107670202543          480\n",
       "65739  1721308154207257624          480\n",
       "65740  1721308154372220022          481\n",
       "65741  1721308154381065281          482\n",
       "65742  1721308154393579407          483\n",
       "65743  1721308169997600279          482\n",
       "65744  1721308170703955473          481\n",
       "65745  1721308171319383542          480\n",
       "66221  1721308199571599196          480\n",
       "66222  1721308199766490794          481\n",
       "66223  1721308199777945719          482\n",
       "66224  1721308199791143798          483\n",
       "66225  1721308199851176564          482\n",
       "66226  1721308786110192590          481\n",
       "66227  1721308786897491524          480"
      ]
     },
     "execution_count": 168,
     "metadata": {},
     "output_type": "execute_result"
    }
   ],
   "source": [
    "chan_df[chan_df['taken_slots']>=480]"
   ]
  },
  {
   "cell_type": "code",
   "execution_count": 148,
   "id": "fe65f146",
   "metadata": {},
   "outputs": [
    {
     "data": {
      "text/plain": [
       "453"
      ]
     },
     "execution_count": 148,
     "metadata": {},
     "output_type": "execute_result"
    }
   ],
   "source": [
    "chan_df['taken_slots'].max()"
   ]
  },
  {
   "cell_type": "code",
   "execution_count": 150,
   "id": "f14a6997",
   "metadata": {},
   "outputs": [
    {
     "data": {
      "text/plain": [
       "-676942806182"
      ]
     },
     "execution_count": 150,
     "metadata": {},
     "output_type": "execute_result"
    }
   ],
   "source": [
    "1721399528932451460 - 1721400205875257642"
   ]
  },
  {
   "cell_type": "code",
   "execution_count": 155,
   "id": "e3717e8a",
   "metadata": {},
   "outputs": [
    {
     "data": {
      "text/plain": [
       "-678582935720"
      ]
     },
     "execution_count": 155,
     "metadata": {},
     "output_type": "execute_result"
    }
   ],
   "source": [
    "1721327094592967554 - 1721327773175903274"
   ]
  },
  {
   "cell_type": "code",
   "execution_count": 160,
   "id": "175bd78a",
   "metadata": {},
   "outputs": [
    {
     "data": {
      "text/plain": [
       "-211593551776"
      ]
     },
     "execution_count": 160,
     "metadata": {},
     "output_type": "execute_result"
    }
   ],
   "source": [
    "1721323921847935496 - 1721324133441487272"
   ]
  },
  {
   "cell_type": "code",
   "execution_count": 161,
   "id": "1fae4932",
   "metadata": {},
   "outputs": [
    {
     "name": "stdout",
     "output_type": "stream",
     "text": [
      "\u001b[34mBData\u001b[m\u001b[m/                       \u001b[34mfeeEst\u001b[m\u001b[m/\r\n",
      "\u001b[34mData Study\u001b[m\u001b[m/                  jam slot count.ipynb\r\n",
      "\u001b[34mJamAttackEval\u001b[m\u001b[m/               \u001b[34mln-jamming-simulator\u001b[m\u001b[m/\r\n",
      "\u001b[34mLNStat\u001b[m\u001b[m/                      \u001b[34mln-jamming-simulator 15 Aug\u001b[m\u001b[m/\r\n",
      "\u001b[34mMaypoles\u001b[m\u001b[m/                    ln-jamming-simulator.zip\r\n",
      "\u001b[34mbitcoin-data-analysis\u001b[m\u001b[m/       \u001b[34mtopology\u001b[m\u001b[m/\r\n",
      "\u001b[34mblockbuilding\u001b[m\u001b[m/               \u001b[34mwip-lightning-jamming-paper\u001b[m\u001b[m/\r\n",
      "\u001b[34mfee-estimates-analysis\u001b[m\u001b[m/\r\n"
     ]
    }
   ],
   "source": [
    "ls"
   ]
  },
  {
   "cell_type": "code",
   "execution_count": null,
   "id": "7b69e7c0",
   "metadata": {},
   "outputs": [],
   "source": []
  }
 ],
 "metadata": {
  "kernelspec": {
   "display_name": "Python 3 (ipykernel)",
   "language": "python",
   "name": "python3"
  },
  "language_info": {
   "codemirror_mode": {
    "name": "ipython",
    "version": 3
   },
   "file_extension": ".py",
   "mimetype": "text/x-python",
   "name": "python",
   "nbconvert_exporter": "python",
   "pygments_lexer": "ipython3",
   "version": "3.9.7"
  }
 },
 "nbformat": 4,
 "nbformat_minor": 5
}
