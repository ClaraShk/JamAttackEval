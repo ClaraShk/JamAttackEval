{
 "cells": [
  {
   "cell_type": "code",
   "execution_count": 354,
   "id": "27c3fa5b",
   "metadata": {},
   "outputs": [],
   "source": [
    "import os\n",
    "import pandas as pd\n",
    "import json\n",
    "\n",
    "\n",
    "pd.set_option('display.float_format', '{:.2f}'.format)\n"
   ]
  },
  {
   "cell_type": "code",
   "execution_count": 355,
   "id": "dbf4a470",
   "metadata": {},
   "outputs": [],
   "source": [
    "\n",
    "\n",
    "# Define the folder number\n",
    "folder_number = '13'  # Change this to the specific folder number you are working with\n",
    "\n",
    "# Define the paths to the JSON files\n",
    "base_path = f'results_Aug1/slow_liquidity/'\n",
    "channels_json_path = os.path.join(base_path, 'channels.json')\n",
    "forwarding_history_json_path = os.path.join(base_path, 'forwarding_history.json')\n",
    "\n",
    "\n"
   ]
  },
  {
   "cell_type": "code",
   "execution_count": 356,
   "id": "ca36fde5",
   "metadata": {},
   "outputs": [],
   "source": [
    "\n",
    "\n",
    "# Load channels.json\n",
    "with open(channels_json_path, 'r') as file:\n",
    "    channels_data = json.load(file)\n",
    "\n",
    "# Load forwarding_history.json\n",
    "with open(forwarding_history_json_path, 'r') as file:\n",
    "    forwarding_history_data = json.load(file)\n",
    "\n",
    "# Extract the forwarding events\n",
    "forwards = forwarding_history_data.get('forwards', [])\n",
    "\n",
    "# Create the initial DataFrame\n",
    "rows = []\n",
    "for entry in forwards:\n",
    "    if isinstance(entry, dict):\n",
    "        rows.append({\n",
    "            'addTimeNs': int(entry['addTimeNs']),\n",
    "            'resolveTimeNs': int(entry.get('resolveTimeNs', 0)),\n",
    "            'eventTimeNs': int(entry['addTimeNs']),\n",
    "            'eventType': 'add',\n",
    "            'incomingAmount': int(entry['incomingAmount']),\n",
    "            'outgoingAmount': int(entry['outgoingAmount']),\n",
    "            'shortChannelId_outgoing': int(entry['outgoingCircuit']['shortChannelId']),\n",
    "            'shortChannelId_incoming': int(entry['incomingCircuit']['shortChannelId']),\n",
    "        })\n",
    "        if 'resolveTimeNs' in entry:\n",
    "            rows.append({\n",
    "                'addTimeNs': int(entry['addTimeNs']),\n",
    "                'resolveTimeNs': int(entry['resolveTimeNs']),\n",
    "                'eventTimeNs': int(entry['resolveTimeNs']),\n",
    "                'eventType': 'resolve',\n",
    "                'incomingAmount': int(entry['incomingAmount']),\n",
    "                'outgoingAmount': int(entry['outgoingAmount']),\n",
    "                'shortChannelId_outgoing': int(entry['outgoingCircuit']['shortChannelId']),\n",
    "                'shortChannelId_incoming': int(entry['incomingCircuit']['shortChannelId']),\n",
    "            })\n",
    "\n",
    "pair_schedule_df = pd.DataFrame(rows)\n",
    "\n",
    "# Sort the DataFrame by eventTimeNs\n",
    "pair_schedule_df = pair_schedule_df.sort_values(by='eventTimeNs').reset_index(drop=True)"
   ]
  },
  {
   "cell_type": "code",
   "execution_count": 357,
   "id": "447c3ec0",
   "metadata": {},
   "outputs": [],
   "source": [
    "# Create a DataFrame for channel capacities\n",
    "channels_df = pd.DataFrame(channels_data['channels'])\n",
    "channels_df['chan_id'] = channels_df['chan_id'].astype(int)\n",
    "channels_df['capacity'] = channels_df['capacity'].astype(int)*1000\n",
    "channels_df = channels_df[['chan_id', 'capacity']]"
   ]
  },
  {
   "cell_type": "code",
   "execution_count": null,
   "id": "8e79a968",
   "metadata": {},
   "outputs": [],
   "source": [
    "def track_funds(pair_schedule_df, channels_df, jam_lim = 0.2):\n",
    "    # Initialize a dictionary to track available funds\n",
    "    #funds = {channel: {'incoming': cap // 2, 'outgoing': cap // 2} for channel, cap in zip(channels_df['chan_id'], channels_df['capacity'])}\n",
    "    funds = {channel: {'incoming': 0, 'outgoing': 0} for channel, cap in zip(channels_df['chan_id'], channels_df['capacity'])}\n",
    "\n",
    "    \n",
    "    # List to store times when locked funds exceed 80%\n",
    "    high_locked_times = []\n",
    "    status = []\n",
    "    for _, row in pair_schedule_df.iterrows():\n",
    "        #if (row['shortChannelId_incoming'] not in {545357767442432, 551954837209088}) and (row['shortChannelId_outgoing'] not in {545357767442432, 551954837209088}):\n",
    "        if True:\n",
    "            if row['eventType'] == 'add':\n",
    "                funds[row['shortChannelId_incoming']]['outgoing'] += row['incomingAmount']\n",
    "                funds[row['shortChannelId_outgoing']]['incoming'] += row['outgoingAmount']\n",
    "            elif row['eventType'] == 'resolve':\n",
    "                funds[row['shortChannelId_incoming']]['outgoing'] -= row['incomingAmount']\n",
    "                funds[row['shortChannelId_outgoing']]['incoming'] -= row['outgoingAmount']\n",
    " \n",
    "\n",
    "\n",
    "            # Check if the locked amounts exceed 80% of available funds\n",
    "            for channel, cap in zip(channels_df['chan_id'], channels_df['capacity']):\n",
    "                status.append({\n",
    "                        'time': row['eventTimeNs'],\n",
    "                        'channel': channel,\n",
    "                        'capacity': cap,\n",
    "                        'incoming_locked': funds[channel]['incoming'],\n",
    "                        'outgoing_locked': funds[channel]['outgoing']\n",
    "                    })\n",
    "                if funds[channel]['incoming'] > jam_lim * (cap // 2):\n",
    "                    high_locked_times.append({\n",
    "                        'time': row['eventTimeNs'],\n",
    "                        'resolve_time': row['resolveTimeNs'],\n",
    "                        'channel': channel,\n",
    "                        'capacity': cap,\n",
    "                        'direction': 'incoming',\n",
    "                        'funds_locked': funds[channel]['incoming'],\n",
    "                    })\n",
    "                if funds[channel]['outgoing'] > jam_lim * (cap // 2):\n",
    "                    high_locked_times.append({\n",
    "                        'time': row['eventTimeNs'],\n",
    "                        'resolve_time': row['resolveTimeNs'],\n",
    "                        'channel': channel,\n",
    "                        'capacity': cap,\n",
    "                        'direction': 'outgoing',\n",
    "                        'funds_locked': funds[channel]['outgoing']   \n",
    "                    })\n",
    "\n",
    "    return pd.DataFrame(high_locked_times), pd.DataFrame(status)\n",
    "\n",
    "liq_jam_ratio = 0.9\n",
    "high_locked_df, st_df = track_funds(pair_schedule_df, channels_df, liq_jam_ratio)\n"
   ]
  },
  {
   "cell_type": "code",
   "execution_count": null,
   "id": "c87e213c",
   "metadata": {
    "scrolled": false
   },
   "outputs": [],
   "source": [
    "pair_schedule_df.head(10)"
   ]
  },
  {
   "cell_type": "code",
   "execution_count": null,
   "id": "4ce8fb02",
   "metadata": {},
   "outputs": [],
   "source": [
    "st_df.head()"
   ]
  },
  {
   "cell_type": "code",
   "execution_count": null,
   "id": "0924cf8c",
   "metadata": {
    "scrolled": true
   },
   "outputs": [],
   "source": [
    "high_locked_df.head(20)"
   ]
  },
  {
   "cell_type": "code",
   "execution_count": null,
   "id": "016a944d",
   "metadata": {},
   "outputs": [],
   "source": [
    "high_locked_df[high_locked_df['channel']==379331511648256]"
   ]
  },
  {
   "cell_type": "markdown",
   "id": "9e03b1c9",
   "metadata": {},
   "source": [
    "# count jammed time"
   ]
  },
  {
   "cell_type": "code",
   "execution_count": null,
   "id": "cd7817f3",
   "metadata": {},
   "outputs": [],
   "source": [
    "def calculate_active_time(df):\n",
    "    # Sort by start time\n",
    "    df = df.sort_values(by='time')\n",
    "    \n",
    "    # Initialize variables\n",
    "    total_active_time = 0\n",
    "    current_start = None\n",
    "    current_end = None\n",
    "    \n",
    "    for _, row in df.iterrows():\n",
    "        start, end = row['time'], row['resolve_time']\n",
    "        \n",
    "        if current_start is None:\n",
    "            current_start = start\n",
    "            current_end = end\n",
    "        else:\n",
    "            if start <= current_end:\n",
    "                # Overlapping period, extend the end time if needed\n",
    "                current_end = max(current_end, end)\n",
    "            else:\n",
    "                # Non-overlapping period, add the previous period's duration\n",
    "                total_active_time += current_end - current_start\n",
    "                current_start = start\n",
    "                current_end = end\n",
    "    \n",
    "    # Add the last period\n",
    "    if current_start is not None:\n",
    "        total_active_time += current_end - current_start\n",
    "    \n",
    "    return total_active_time\n",
    "\n",
    "grouped = high_locked_df.groupby(['channel', 'direction'])\n",
    "\n",
    "results = grouped.apply(calculate_active_time).reset_index()\n",
    "results.columns = ['channel', 'direction', 'total_active_time']\n",
    "\n",
    "# Step 5: Print the results\n",
    "print(results)"
   ]
  },
  {
   "cell_type": "code",
   "execution_count": null,
   "id": "3e763617",
   "metadata": {},
   "outputs": [],
   "source": [
    "results['total_active_time_minutes'] = results['total_active_time']/60000000000"
   ]
  },
  {
   "cell_type": "code",
   "execution_count": null,
   "id": "33544563",
   "metadata": {},
   "outputs": [],
   "source": [
    "results"
   ]
  },
  {
   "cell_type": "code",
   "execution_count": null,
   "id": "51eaeb59",
   "metadata": {},
   "outputs": [],
   "source": []
  },
  {
   "cell_type": "code",
   "execution_count": null,
   "id": "259e2b00",
   "metadata": {},
   "outputs": [],
   "source": []
  }
 ],
 "metadata": {
  "kernelspec": {
   "display_name": "Python 3 (ipykernel)",
   "language": "python",
   "name": "python3"
  },
  "language_info": {
   "codemirror_mode": {
    "name": "ipython",
    "version": 3
   },
   "file_extension": ".py",
   "mimetype": "text/x-python",
   "name": "python",
   "nbconvert_exporter": "python",
   "pygments_lexer": "ipython3",
   "version": "3.9.7"
  }
 },
 "nbformat": 4,
 "nbformat_minor": 5
}
